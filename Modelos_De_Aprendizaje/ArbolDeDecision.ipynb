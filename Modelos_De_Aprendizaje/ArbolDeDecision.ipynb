{
 "cells": [
  {
   "cell_type": "code",
   "execution_count": 3,
   "metadata": {},
   "outputs": [],
   "source": [
    "from sklearn.tree import DecisionTreeClassifier\n",
    "from matplotlib import pyplot\n",
    "from sklearn.tree import plot_tree\n",
    "from sklearn.metrics import confusion_matrix\n",
    "from sklearn.metrics import recall_score"
   ]
  },
  {
   "cell_type": "code",
   "execution_count": 4,
   "metadata": {},
   "outputs": [
    {
     "ename": "NameError",
     "evalue": "name 'atributos' is not defined",
     "output_type": "error",
     "traceback": [
      "\u001b[1;31m---------------------------------------------------------------------------\u001b[0m",
      "\u001b[1;31mNameError\u001b[0m                                 Traceback (most recent call last)",
      "Cell \u001b[1;32mIn[4], line 15\u001b[0m\n\u001b[0;32m      1\u001b[0m \u001b[38;5;66;03m# Scikit-learn implementa el algoritmo CART de tal manera que, al buscar en\u001b[39;00m\n\u001b[0;32m      2\u001b[0m \u001b[38;5;66;03m# cada nodo la mejor combinación atributo-umbral para particionar el conjunto\u001b[39;00m\n\u001b[0;32m      3\u001b[0m \u001b[38;5;66;03m# de ejemplos asociado al nodo, no considera los atributos en orden, sino que\u001b[39;00m\n\u001b[1;32m   (...)\u001b[0m\n\u001b[0;32m      9\u001b[0m \u001b[38;5;66;03m# Por otra parte, para evitar el sobreajuste del árbol a los ejemplos de\u001b[39;00m\n\u001b[0;32m     10\u001b[0m \u001b[38;5;66;03m# entrenamiento vamos a limitar la profundidad del árbol construido.\u001b[39;00m\n\u001b[0;32m     12\u001b[0m clasificador_CART \u001b[38;5;241m=\u001b[39m DecisionTreeClassifier(\n\u001b[0;32m     13\u001b[0m     max_depth\u001b[38;5;241m=\u001b[39m\u001b[38;5;241m10\u001b[39m \u001b[38;5;66;03m#random_state=numero, en pricipio siemprecrea el mismo arbol. Retro & nuskool if you know what i mean\u001b[39;00m\n\u001b[0;32m     14\u001b[0m )\n\u001b[1;32m---> 15\u001b[0m clasificador_CART\u001b[38;5;241m.\u001b[39mfit(\u001b[43matributos\u001b[49m, objetivo) \n",
      "\u001b[1;31mNameError\u001b[0m: name 'atributos' is not defined"
     ]
    }
   ],
   "source": [
    "# Scikit-learn implementa el algoritmo CART de tal manera que, al buscar en\n",
    "# cada nodo la mejor combinación atributo-umbral para particionar el conjunto\n",
    "# de ejemplos asociado al nodo, no considera los atributos en orden, sino que\n",
    "# los reordena aleatoriamente. Esto puede hacer que se obtenga un árbol\n",
    "# distinto cada vez que se ejecuta el código, ya que produce como efecto que\n",
    "# los empates en esa búsqueda se deshacen de forma aleatoria. Por tanto, para\n",
    "# que el código sea reproducible debemos establecer una semilla aleatoria inicial.\n",
    "\n",
    "# Por otra parte, para evitar el sobreajuste del árbol a los ejemplos de\n",
    "# entrenamiento vamos a limitar la profundidad del árbol construido.\n",
    "\n",
    "clasificador_CART = DecisionTreeClassifier(\n",
    "    max_depth=10 #random_state=numero, en pricipio siemprecrea el mismo arbol. Retro & nuskool if you know what i mean\n",
    ")\n",
    "clasificador_CART.fit(atributos, objetivo) "
   ]
  },
  {
   "cell_type": "code",
   "execution_count": null,
   "metadata": {},
   "outputs": [],
   "source": [
    "pyplot.figure(figsize=(50, 20))  # Anchura y altura del gráfico\n",
    "árbol = plot_tree(clasificador_CART,\n",
    "                  # El argumento feature_names permite proporcionar, en una\n",
    "                  # lista, los nombres de los atributos.\n",
    "                  feature_names=atributos_discretos + atributos_continuos,\n",
    "                  # El argumento class_names permite proporcionar, en una\n",
    "                  # lista, los nombres de las clases\n",
    "                  class_names=['No', 'Yes'])"
   ]
  },
  {
   "cell_type": "code",
   "execution_count": null,
   "metadata": {},
   "outputs": [],
   "source": [
    "predicciones = clasificador_CART.predict(atributos)\n",
    "predicciones"
   ]
  },
  {
   "cell_type": "code",
   "execution_count": null,
   "metadata": {},
   "outputs": [],
   "source": [
    "clasificador_CART.score(atributos, objetivo)"
   ]
  },
  {
   "cell_type": "code",
   "execution_count": null,
   "metadata": {},
   "outputs": [],
   "source": [
    "confusion_matrix(objetivo, predicciones)"
   ]
  },
  {
   "cell_type": "code",
   "execution_count": null,
   "metadata": {},
   "outputs": [],
   "source": [
    "recall_score(objetivo, predicciones)"
   ]
  },
  {
   "cell_type": "code",
   "execution_count": null,
   "metadata": {},
   "outputs": [],
   "source": [
    "(atributos_entrenamiento, atributos_prueba,\n",
    " objetivo_entrenamiento, objetivo_prueba) = train_test_split(\n",
    "        # Conjuntos de datos a dividir, usando los mismos índices para ambos\n",
    "        atributos, objetivo,\n",
    "        # Tamaño del conjunto de prueba (20 % en este caso)\n",
    "        test_size=.2,\n",
    "        # Estratificación según la distribución de clases en el atributo objetivo\n",
    "        stratify=objetivo)"
   ]
  },
  {
   "cell_type": "code",
   "execution_count": null,
   "metadata": {},
   "outputs": [],
   "source": [
    "clasificador_CART = DecisionTreeClassifier(\n",
    "    max_depth=100,  # Máxima profundidad del árbol\n",
    "    min_samples_split=50  # Mínimo número de ejemplos para poder particionar\n",
    ")"
   ]
  },
  {
   "cell_type": "code",
   "execution_count": null,
   "metadata": {},
   "outputs": [],
   "source": [
    "resultados_validación_cruzada = cross_validate(clasificador_CART,\n",
    "                                               atributos_entrenamiento,\n",
    "                                               objetivo_entrenamiento,\n",
    "                                               scoring='recall',\n",
    "                                               cv=10)\n",
    "resultados_validación_cruzada"
   ]
  },
  {
   "cell_type": "code",
   "execution_count": null,
   "metadata": {},
   "outputs": [],
   "source": [
    "resultados_validación_cruzada['test_score'].mean()"
   ]
  },
  {
   "cell_type": "code",
   "execution_count": null,
   "metadata": {},
   "outputs": [],
   "source": [
    "clasificador_CART = DecisionTreeClassifier()\n",
    "rejilla_de_hiperparámetros = {\n",
    "    # Máxima profundidad del árbol: 3, 4, 5, 6, 7, 8, 9, 10\n",
    "    'max_depth': range(3, 11),\n",
    "    # Mínimo número de ejemplos para poder particionar: 5, 10, 15\n",
    "    'min_samples_split': range(5, 20, 5)\n",
    "}"
   ]
  },
  {
   "cell_type": "code",
   "execution_count": null,
   "metadata": {},
   "outputs": [],
   "source": [
    "CV(clasificador_CART,\n",
    "                                   rejilla_de_hiperparámetros,\n",
    "                                   scoring='recall',\n",
    "                                   cv=10)\n",
    "búsqueda_en_rejilla.fit(atributos_entrenamiento, objetivo_entrenamiento)búsqueda_en_rejilla.best_score_"
   ]
  },
  {
   "cell_type": "code",
   "execution_count": null,
   "metadata": {},
   "outputs": [],
   "source": [
    "búsqueda_en_rejilla.best_params_"
   ]
  }
 ],
 "metadata": {
  "kernelspec": {
   "display_name": "base",
   "language": "python",
   "name": "python3"
  },
  "language_info": {
   "codemirror_mode": {
    "name": "ipython",
    "version": 3
   },
   "file_extension": ".py",
   "mimetype": "text/x-python",
   "name": "python",
   "nbconvert_exporter": "python",
   "pygments_lexer": "ipython3",
   "version": "3.12.3"
  }
 },
 "nbformat": 4,
 "nbformat_minor": 2
}
