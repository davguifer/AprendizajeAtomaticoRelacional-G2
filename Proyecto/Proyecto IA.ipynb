{
 "cells": [
  {
   "cell_type": "code",
   "execution_count": 1,
   "id": "da600c9a",
   "metadata": {},
   "outputs": [],
   "source": [
    "import networkx as nx\n",
    "import pandas as pd\n",
    "import matplotlib.pyplot as plt"
   ]
  },
  {
   "cell_type": "code",
   "execution_count": 2,
   "id": "467f7fb7",
   "metadata": {},
   "outputs": [],
   "source": [
    "#Git_web_ml\n",
    "df = pd.read_csv(\"../datos/musae_git_edges.csv\")\n",
    "edges = [tuple(x) for x in df.to_records(index=False)]\n",
    "nodes = pd.read_csv(\"../datos/musae_git_target.csv\")\n",
    "\n",
    "G = nx.Graph()\n",
    "G.add_nodes_from(nodes)\n",
    "G.add_edges_from(edges)"
   ]
  },
  {
   "cell_type": "code",
   "execution_count": 3,
   "id": "5ad2f913",
   "metadata": {},
   "outputs": [
    {
     "name": "stdout",
     "output_type": "stream",
     "text": [
      "Número de nodos: 37703\n",
      "Número de aristas: 289003\n",
      "Algunos nodos y sus grados:\n",
      "Nodo id: Grado 0\n",
      "Nodo name: Grado 0\n",
      "Nodo ml_target: Grado 0\n",
      "Nodo 0: Grado 1\n",
      "Nodo 23977: Grado 32\n",
      "Nodo 1: Grado 8\n",
      "Nodo 34526: Grado 2\n",
      "Nodo 2370: Grado 40\n",
      "Nodo 14683: Grado 106\n",
      "Nodo 29982: Grado 489\n"
     ]
    }
   ],
   "source": [
    "# Verificar el número de nodos y aristas\n",
    "print(f\"Número de nodos: {G.number_of_nodes()}\")\n",
    "print(f\"Número de aristas: {G.number_of_edges()}\")\n",
    "\n",
    "# Mostrar algunos nodos y sus grados\n",
    "print(\"Algunos nodos y sus grados:\")\n",
    "for i, (node, degree) in enumerate(G.degree(), start=1):\n",
    "    print(f\"Nodo {node}: Grado {degree}\")\n",
    "    if i >= 10:  # Mostrar solo los primeros 10 nodos\n",
    "        break\n"
   ]
  },
  {
   "cell_type": "code",
   "execution_count": 4,
   "id": "81be6a9a",
   "metadata": {},
   "outputs": [
    {
     "data": {
      "text/html": [
       "<div>\n",
       "<style scoped>\n",
       "    .dataframe tbody tr th:only-of-type {\n",
       "        vertical-align: middle;\n",
       "    }\n",
       "\n",
       "    .dataframe tbody tr th {\n",
       "        vertical-align: top;\n",
       "    }\n",
       "\n",
       "    .dataframe thead th {\n",
       "        text-align: right;\n",
       "    }\n",
       "</style>\n",
       "<table border=\"1\" class=\"dataframe\">\n",
       "  <thead>\n",
       "    <tr style=\"text-align: right;\">\n",
       "      <th></th>\n",
       "      <th>id</th>\n",
       "      <th>name</th>\n",
       "      <th>ml_target</th>\n",
       "    </tr>\n",
       "  </thead>\n",
       "  <tbody>\n",
       "    <tr>\n",
       "      <th>0</th>\n",
       "      <td>0</td>\n",
       "      <td>Eiryyy</td>\n",
       "      <td>0</td>\n",
       "    </tr>\n",
       "    <tr>\n",
       "      <th>1</th>\n",
       "      <td>1</td>\n",
       "      <td>shawflying</td>\n",
       "      <td>0</td>\n",
       "    </tr>\n",
       "    <tr>\n",
       "      <th>2</th>\n",
       "      <td>2</td>\n",
       "      <td>JpMCarrilho</td>\n",
       "      <td>1</td>\n",
       "    </tr>\n",
       "    <tr>\n",
       "      <th>3</th>\n",
       "      <td>3</td>\n",
       "      <td>SuhwanCha</td>\n",
       "      <td>0</td>\n",
       "    </tr>\n",
       "    <tr>\n",
       "      <th>4</th>\n",
       "      <td>4</td>\n",
       "      <td>sunilangadi2</td>\n",
       "      <td>1</td>\n",
       "    </tr>\n",
       "    <tr>\n",
       "      <th>...</th>\n",
       "      <td>...</td>\n",
       "      <td>...</td>\n",
       "      <td>...</td>\n",
       "    </tr>\n",
       "    <tr>\n",
       "      <th>37695</th>\n",
       "      <td>37695</td>\n",
       "      <td>shawnwanderson</td>\n",
       "      <td>1</td>\n",
       "    </tr>\n",
       "    <tr>\n",
       "      <th>37696</th>\n",
       "      <td>37696</td>\n",
       "      <td>kris-ipeh</td>\n",
       "      <td>0</td>\n",
       "    </tr>\n",
       "    <tr>\n",
       "      <th>37697</th>\n",
       "      <td>37697</td>\n",
       "      <td>qpautrat</td>\n",
       "      <td>0</td>\n",
       "    </tr>\n",
       "    <tr>\n",
       "      <th>37698</th>\n",
       "      <td>37698</td>\n",
       "      <td>Injabie3</td>\n",
       "      <td>1</td>\n",
       "    </tr>\n",
       "    <tr>\n",
       "      <th>37699</th>\n",
       "      <td>37699</td>\n",
       "      <td>caseycavanagh</td>\n",
       "      <td>0</td>\n",
       "    </tr>\n",
       "  </tbody>\n",
       "</table>\n",
       "<p>37700 rows × 3 columns</p>\n",
       "</div>"
      ],
      "text/plain": [
       "          id            name  ml_target\n",
       "0          0          Eiryyy          0\n",
       "1          1      shawflying          0\n",
       "2          2     JpMCarrilho          1\n",
       "3          3       SuhwanCha          0\n",
       "4          4    sunilangadi2          1\n",
       "...      ...             ...        ...\n",
       "37695  37695  shawnwanderson          1\n",
       "37696  37696       kris-ipeh          0\n",
       "37697  37697        qpautrat          0\n",
       "37698  37698        Injabie3          1\n",
       "37699  37699   caseycavanagh          0\n",
       "\n",
       "[37700 rows x 3 columns]"
      ]
     },
     "execution_count": 4,
     "metadata": {},
     "output_type": "execute_result"
    }
   ],
   "source": [
    "nodes"
   ]
  },
  {
   "cell_type": "code",
   "execution_count": null,
   "id": "42791042",
   "metadata": {},
   "outputs": [],
   "source": []
  }
 ],
 "metadata": {
  "kernelspec": {
   "display_name": "Python 3 (ipykernel)",
   "language": "python",
   "name": "python3"
  },
  "language_info": {
   "codemirror_mode": {
    "name": "ipython",
    "version": 3
   },
   "file_extension": ".py",
   "mimetype": "text/x-python",
   "name": "python",
   "nbconvert_exporter": "python",
   "pygments_lexer": "ipython3",
   "version": "3.12.3"
  }
 },
 "nbformat": 4,
 "nbformat_minor": 5
}
