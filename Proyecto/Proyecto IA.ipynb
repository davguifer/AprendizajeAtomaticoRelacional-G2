{
 "cells": [
  {
   "cell_type": "code",
   "execution_count": 2,
   "id": "da600c9a",
   "metadata": {},
   "outputs": [],
   "source": [
    "import networkx as nx\n",
    "import pandas as pd\n",
    "import matplotlib.pyplot as plt\n",
    "import random"
   ]
  },
  {
   "cell_type": "code",
   "execution_count": 11,
   "id": "467f7fb7",
   "metadata": {},
   "outputs": [],
   "source": [
    "#Git_web_ml\n",
    "df = pd.read_csv(\"git_web_ml/musae_git_edges.csv\")\n",
    "edges = [tuple(x) for x in df.to_records(index=False)]\n",
    "nodes = pd.read_csv(\"git_web_ml/musae_git_target.csv\")\n",
    "\n",
    "G = nx.Graph()\n",
    "G.add_nodes_from(nodes)\n",
    "G.add_edges_from(edges)"
   ]
  },
  {
   "cell_type": "code",
   "execution_count": 5,
   "id": "cdf38838",
   "metadata": {},
   "outputs": [],
   "source": [
    "#Spoty\n",
    "df = pd.read_csv(\"spoty/edges.csv\")\n",
    "edges = [tuple(x) for x in df.to_records(index=False)]\n",
    "nodes = pd.read_csv(\"spoty/nodes.csv\")\n",
    "\n",
    "G = nx.Graph()\n",
    "G.add_nodes_from(nodes)\n",
    "G.add_edges_from(edges)"
   ]
  },
  {
   "cell_type": "code",
   "execution_count": 9,
   "id": "9af9ef0d",
   "metadata": {},
   "outputs": [],
   "source": [
    "#Github\n",
    "df = pd.read_csv(\"archive/github_edges_1.csv\")\n",
    "edges = [tuple(x) for x in df.to_records(index=False)]\n",
    "nodes = pd.read_csv(\"archive/github_target_1.csv\")\n",
    "\n",
    "G = nx.Graph()\n",
    "G.add_nodes_from(nodes)\n",
    "G.add_edges_from(edges)"
   ]
  },
  {
   "cell_type": "code",
   "execution_count": 13,
   "id": "5ad2f913",
   "metadata": {},
   "outputs": [
    {
     "name": "stdout",
     "output_type": "stream",
     "text": [
      "Número de nodos: 37703\n",
      "Número de aristas: 289003\n",
      "Algunos nodos y sus grados:\n",
      "Nodo id: Grado 0\n",
      "Nodo name: Grado 0\n",
      "Nodo ml_target: Grado 0\n",
      "Nodo 0: Grado 1\n",
      "Nodo 23977: Grado 32\n",
      "Nodo 1: Grado 8\n",
      "Nodo 34526: Grado 2\n",
      "Nodo 2370: Grado 40\n",
      "Nodo 14683: Grado 106\n",
      "Nodo 29982: Grado 489\n"
     ]
    }
   ],
   "source": [
    "# Verificar el número de nodos y aristas\n",
    "print(f\"Número de nodos: {G.number_of_nodes()}\")\n",
    "print(f\"Número de aristas: {G.number_of_edges()}\")\n",
    "\n",
    "# Mostrar algunos nodos y sus grados\n",
    "print(\"Algunos nodos y sus grados:\")\n",
    "for i, (node, degree) in enumerate(G.degree(), start=1):\n",
    "    print(f\"Nodo {node}: Grado {degree}\")\n",
    "    if i >= 10:  # Mostrar solo los primeros 10 nodos\n",
    "        break\n"
   ]
  },
  {
   "cell_type": "code",
   "execution_count": null,
   "id": "81be6a9a",
   "metadata": {},
   "outputs": [],
   "source": []
  }
 ],
 "metadata": {
  "kernelspec": {
   "display_name": "Python 3 (ipykernel)",
   "language": "python",
   "name": "python3"
  },
  "language_info": {
   "codemirror_mode": {
    "name": "ipython",
    "version": 3
   },
   "file_extension": ".py",
   "mimetype": "text/x-python",
   "name": "python",
   "nbconvert_exporter": "python",
   "pygments_lexer": "ipython3",
   "version": "3.11.5"
  }
 },
 "nbformat": 4,
 "nbformat_minor": 5
}
