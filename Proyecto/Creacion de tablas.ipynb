{
 "cells": [
  {
   "cell_type": "code",
   "execution_count": 3,
   "metadata": {},
   "outputs": [],
   "source": [
    "import networkx as nx\n",
    "import pandas as pd\n",
    "import matplotlib.pyplot as plt\n",
    "from joblib import Parallel, delayed\n",
    "import csv"
   ]
  },
  {
   "cell_type": "code",
   "execution_count": 41,
   "metadata": {},
   "outputs": [],
   "source": [
    "# Lectura de datos\n",
    "nodes = pd.read_csv(\"../datos/musae_git_target.csv\")\n",
    "atributeDegreeCentrality = pd.read_csv(\"../metricas/degree_centrality.csv\")\n",
    "atributeDegreeCentralitysorted = atributeDegreeCentrality.sort_values(by='column_name', ascending=True)\n",
    "atributeClosenessCentrality = pd.read_csv(\"../metricas/closeness_centrality.csv\")\n",
    "atributeBetweennessCentrality = pd.read_csv(\"../metricas/betweenness_centrality.csv\")\n",
    "atributeClusteringCoefficient = pd.read_csv(\"../metricas/clustering_coefficient.csv\")\n",
    "atributeGeneralizedDegree = pd.read_csv(\"../metricas/generalized_degree.csv\")\n",
    "atributeTriangles = pd.read_csv(\"../metricas/triangles.csv\")\n",
    "atributeGreedyModularityCommunities = pd.read_csv(\"../metricas/greedy_modularity_communities.csv\")\n",
    "atributeCoreNumber = pd.read_csv(\"../metricas/core_number.csv\")\n",
    "atributeAsynLpaCommunities = pd.read_csv(\"../metricas/asyn_lpa_communities.csv\")\n"
   ]
  },
  {
   "cell_type": "code",
   "execution_count": 62,
   "metadata": {},
   "outputs": [
    {
     "data": {
      "text/html": [
       "<div>\n",
       "<style scoped>\n",
       "    .dataframe tbody tr th:only-of-type {\n",
       "        vertical-align: middle;\n",
       "    }\n",
       "\n",
       "    .dataframe tbody tr th {\n",
       "        vertical-align: top;\n",
       "    }\n",
       "\n",
       "    .dataframe thead th {\n",
       "        text-align: right;\n",
       "    }\n",
       "</style>\n",
       "<table border=\"1\" class=\"dataframe\">\n",
       "  <thead>\n",
       "    <tr style=\"text-align: right;\">\n",
       "      <th></th>\n",
       "      <th>id</th>\n",
       "      <th>name</th>\n",
       "      <th>ml_target</th>\n",
       "      <th>degree_centrality</th>\n",
       "      <th>closeness_centrality</th>\n",
       "      <th>betweenness_centrality</th>\n",
       "      <th>clustering_coefficient</th>\n",
       "      <th>generalized_degree</th>\n",
       "      <th>triangles</th>\n",
       "      <th>Community</th>\n",
       "      <th>Core number</th>\n",
       "    </tr>\n",
       "  </thead>\n",
       "  <tbody>\n",
       "    <tr>\n",
       "      <th>0</th>\n",
       "      <td>0.0</td>\n",
       "      <td>Eiryyy</td>\n",
       "      <td>0.0</td>\n",
       "      <td>0.000027</td>\n",
       "      <td>0.275005</td>\n",
       "      <td>0.000000e+00</td>\n",
       "      <td>0.000000</td>\n",
       "      <td>Counter({0: 1})</td>\n",
       "      <td>0.0</td>\n",
       "      <td>0</td>\n",
       "      <td>1.0</td>\n",
       "    </tr>\n",
       "    <tr>\n",
       "      <th>1</th>\n",
       "      <td>1.0</td>\n",
       "      <td>shawflying</td>\n",
       "      <td>0.0</td>\n",
       "      <td>0.000212</td>\n",
       "      <td>0.294956</td>\n",
       "      <td>1.149733e-06</td>\n",
       "      <td>0.178571</td>\n",
       "      <td>Counter({0: 3, 1: 2, 3: 2, 2: 1})</td>\n",
       "      <td>5.0</td>\n",
       "      <td>1</td>\n",
       "      <td>6.0</td>\n",
       "    </tr>\n",
       "    <tr>\n",
       "      <th>2</th>\n",
       "      <td>2.0</td>\n",
       "      <td>JpMCarrilho</td>\n",
       "      <td>1.0</td>\n",
       "      <td>0.000027</td>\n",
       "      <td>0.261845</td>\n",
       "      <td>0.000000e+00</td>\n",
       "      <td>0.000000</td>\n",
       "      <td>Counter({0: 1})</td>\n",
       "      <td>0.0</td>\n",
       "      <td>0</td>\n",
       "      <td>1.0</td>\n",
       "    </tr>\n",
       "    <tr>\n",
       "      <th>3</th>\n",
       "      <td>3.0</td>\n",
       "      <td>SuhwanCha</td>\n",
       "      <td>0.0</td>\n",
       "      <td>0.000133</td>\n",
       "      <td>0.278718</td>\n",
       "      <td>5.316292e-05</td>\n",
       "      <td>0.000000</td>\n",
       "      <td>Counter({0: 5})</td>\n",
       "      <td>0.0</td>\n",
       "      <td>0</td>\n",
       "      <td>4.0</td>\n",
       "    </tr>\n",
       "    <tr>\n",
       "      <th>4</th>\n",
       "      <td>4.0</td>\n",
       "      <td>sunilangadi2</td>\n",
       "      <td>1.0</td>\n",
       "      <td>0.000053</td>\n",
       "      <td>0.243084</td>\n",
       "      <td>6.134318e-09</td>\n",
       "      <td>0.000000</td>\n",
       "      <td>Counter({0: 2})</td>\n",
       "      <td>0.0</td>\n",
       "      <td>1</td>\n",
       "      <td>2.0</td>\n",
       "    </tr>\n",
       "  </tbody>\n",
       "</table>\n",
       "</div>"
      ],
      "text/plain": [
       "    id          name  ml_target  degree_centrality  closeness_centrality  \\\n",
       "0  0.0        Eiryyy        0.0           0.000027              0.275005   \n",
       "1  1.0    shawflying        0.0           0.000212              0.294956   \n",
       "2  2.0   JpMCarrilho        1.0           0.000027              0.261845   \n",
       "3  3.0     SuhwanCha        0.0           0.000133              0.278718   \n",
       "4  4.0  sunilangadi2        1.0           0.000053              0.243084   \n",
       "\n",
       "   betweenness_centrality  clustering_coefficient  \\\n",
       "0            0.000000e+00                0.000000   \n",
       "1            1.149733e-06                0.178571   \n",
       "2            0.000000e+00                0.000000   \n",
       "3            5.316292e-05                0.000000   \n",
       "4            6.134318e-09                0.000000   \n",
       "\n",
       "                  generalized_degree  triangles  Community  Core number  \n",
       "0                    Counter({0: 1})        0.0          0          1.0  \n",
       "1  Counter({0: 3, 1: 2, 3: 2, 2: 1})        5.0          1          6.0  \n",
       "2                    Counter({0: 1})        0.0          0          1.0  \n",
       "3                    Counter({0: 5})        0.0          0          4.0  \n",
       "4                    Counter({0: 2})        0.0          1          2.0  "
      ]
     },
     "execution_count": 62,
     "metadata": {},
     "output_type": "execute_result"
    }
   ],
   "source": [
    "# Renombrar columnas para evitar conflictos\n",
    "atributeDegreeCentrality.rename(columns={'Degree Centrality': 'degree_centrality'}, inplace=True)\n",
    "atributeClosenessCentrality.rename(columns={'Closeness Centrality': 'closeness_centrality'}, inplace=True)\n",
    "atributeBetweennessCentrality.rename(columns={'Betweenness Centrality': 'betweenness_centrality'}, inplace=True)\n",
    "atributeClusteringCoefficient.rename(columns={'Clustering Coefficient': 'clustering_coefficient'}, inplace=True)\n",
    "atributeGeneralizedDegree.rename(columns={'Generalized Degree': 'generalized_degree'}, inplace=True)\n",
    "atributeTriangles.rename(columns={'Triangles': 'triangles'}, inplace=True)\n",
    "atributeGreedyModularityCommunities.rename(columns={'Greedy Modularity Communities': 'greedy_modularity_communities'}, inplace=True)\n",
    "atributeCoreNumber.rename(columns={'Core Number': 'core_number'}, inplace=True)\n",
    "atributeAsynLpaCommunities.rename(columns={'Asyn Lpa Communities': 'asyn_lpa_communities'}, inplace=True)\n",
    "\n",
    "# Añadir columnas directamente al DataFrame nodes\n",
    "nodes = pd.concat([nodes, atributeDegreeCentrality, atributeClosenessCentrality,\n",
    "                   atributeBetweennessCentrality, atributeClusteringCoefficient,\n",
    "                   atributeGeneralizedDegree, atributeTriangles,\n",
    "                   atributeGreedyModularityCommunities, atributeCoreNumber,\n",
    "                   atributeAsynLpaCommunities], axis=1)\n",
    "\n",
    "# Eliminar las tres primeras columnas\n",
    "nodes = nodes.loc[:, ~nodes.columns.duplicated()]\n",
    "\n",
    "# Ordenar el DataFrame por la columna 'id'\n",
    "nodes_sorted = nodes.sort_values(by='id')\n",
    "\n",
    "nodes.head()\n"
   ]
  },
  {
   "cell_type": "code",
   "execution_count": 64,
   "metadata": {},
   "outputs": [
    {
     "name": "stdout",
     "output_type": "stream",
     "text": [
      "    id   name  ml_target  degree_centrality  closeness_centrality  \\\n",
      "6  6.0  sfate        0.0           0.000159              0.372244   \n",
      "\n",
      "   betweenness_centrality  clustering_coefficient  \\\n",
      "6                0.000002                0.333333   \n",
      "\n",
      "                  generalized_degree  triangles  Community  Core number  \n",
      "6  Counter({2: 2, 1: 2, 0: 1, 4: 1})        5.0          1          6.0  \n"
     ]
    }
   ],
   "source": [
    "# Obtener la fila correspondiente al ID específico (por ejemplo, ID = 0)\n",
    "id_especifico = 6\n",
    "fila_id_especifico = nodes_sorted.loc[nodes_sorted['id'] == id_especifico]\n",
    "\n",
    "# Mostrar la fila\n",
    "print(fila_id_especifico)"
   ]
  },
  {
   "cell_type": "markdown",
   "metadata": {},
   "source": []
  },
  {
   "cell_type": "code",
   "execution_count": null,
   "metadata": {},
   "outputs": [],
   "source": [
    "#Tablas con todos los atributos sin los de conectividad\n",
    "\n"
   ]
  },
  {
   "cell_type": "code",
   "execution_count": null,
   "metadata": {},
   "outputs": [],
   "source": [
    "#Tablas con todos los atributos sin los de centralidad\n",
    "\n"
   ]
  },
  {
   "cell_type": "code",
   "execution_count": null,
   "metadata": {},
   "outputs": [],
   "source": [
    "#Tablas con todos los atributos sin los de agrupamiento\n",
    "\n"
   ]
  },
  {
   "cell_type": "code",
   "execution_count": null,
   "metadata": {},
   "outputs": [],
   "source": [
    "#Tablas con todos los atributos sin los de comunidades\n",
    "\n"
   ]
  },
  {
   "cell_type": "code",
   "execution_count": null,
   "metadata": {},
   "outputs": [],
   "source": [
    "#Tablas con todos los atributos sin los de nucleos\n",
    "\n"
   ]
  }
 ],
 "metadata": {
  "kernelspec": {
   "display_name": "base",
   "language": "python",
   "name": "python3"
  },
  "language_info": {
   "codemirror_mode": {
    "name": "ipython",
    "version": 3
   },
   "file_extension": ".py",
   "mimetype": "text/x-python",
   "name": "python",
   "nbconvert_exporter": "python",
   "pygments_lexer": "ipython3",
   "version": "3.12.3"
  }
 },
 "nbformat": 4,
 "nbformat_minor": 2
}
