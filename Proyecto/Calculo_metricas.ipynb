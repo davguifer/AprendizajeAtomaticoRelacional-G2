{
 "cells": [
  {
   "cell_type": "code",
   "execution_count": 2,
   "id": "da600c9a",
   "metadata": {},
   "outputs": [],
   "source": [
    "import networkx as nx\n",
    "import pandas as pd\n",
    "import matplotlib.pyplot as plt\n",
    "from joblib import Parallel, delayed\n",
    "import csv\n",
    " "
   ]
  },
  {
   "cell_type": "code",
   "execution_count": 4,
   "id": "467f7fb7",
   "metadata": {},
   "outputs": [],
   "source": [
    "#Git_web_ml\n",
    "df = pd.read_csv(\"../datos/musae_git_edges.csv\")\n",
    "edges = [tuple(x) for x in df.to_records(index=False)]\n",
    "nodes = pd.read_csv(\"../datos/musae_git_target.csv\")\n",
    "\n",
    "G = nx.Graph()\n",
    "G.add_nodes_from(nodes)\n",
    "G.add_edges_from(edges)"
   ]
  },
  {
   "cell_type": "code",
   "execution_count": null,
   "id": "5ad2f913",
   "metadata": {},
   "outputs": [],
   "source": [
    "# Verificar el número de nodos y aristas\n",
    "print(f\"Número de nodos: {G.number_of_nodes()}\")\n",
    "print(f\"Número de aristas: {G.number_of_edges()}\")"
   ]
  },
  {
   "cell_type": "code",
   "execution_count": 10,
   "id": "b9919749",
   "metadata": {},
   "outputs": [],
   "source": [
    "# Calculamos métricas de centralidad"
   ]
  },
  {
   "cell_type": "code",
   "execution_count": 11,
   "id": "4391bfbe",
   "metadata": {},
   "outputs": [],
   "source": [
    "# Centralidad de grado\n",
    "degree_centrality = nx.degree_centrality(G)\n",
    "with open(\"../metricas/degree_centrality.csv\", \"w\") as csvfile:\n",
    "    writer = csv.writer(csvfile)\n",
    "    writer.writerow([\"Nodo\", \"Degree Centrality\"])  # Escribir encabezados\n",
    "    for nodo, centrality in degree_centrality.items():\n",
    "        writer.writerow([nodo, centrality])"
   ]
  },
  {
   "cell_type": "code",
   "execution_count": 12,
   "id": "acd0b732",
   "metadata": {},
   "outputs": [],
   "source": [
    "# Centralidad de cernanía\n",
    "closeness_centrality = nx.closeness_centrality(G)\n",
    "with open(\"../metricas/closeness_centrality.csv\", \"w\") as csvfile:\n",
    "    writer = csv.writer(csvfile)\n",
    "    writer.writerow([\"Nodo\", \"Closeness Centrality\"])  # Escribir encabezados\n",
    "    for nodo, centrality in closeness_centrality.items():\n",
    "        writer.writerow([nodo, centrality])"
   ]
  },
  {
   "cell_type": "code",
   "execution_count": 13,
   "id": "84eba062",
   "metadata": {},
   "outputs": [],
   "source": [
    "# Centralidad de intermediación\n",
    "betweenness_centrality = nx.betweenness_centrality(G)\n",
    "with open(\"../metricas/betweenness_centrality.csv\", \"w\") as csvfile:\n",
    "    writer = csv.writer(csvfile)\n",
    "    writer.writerow([\"Nodo\", \"Betweenness Centrality\"])  # Escribir encabezados\n",
    "    for nodo, centrality in betweenness_centrality.items():\n",
    "        writer.writerow([nodo, centrality])"
   ]
  },
  {
   "cell_type": "code",
   "execution_count": 14,
   "metadata": {},
   "outputs": [],
   "source": [
    "# Calculamos las métricas de agrupamiento"
   ]
  },
  {
   "cell_type": "code",
   "execution_count": 15,
   "metadata": {},
   "outputs": [],
   "source": [
    "# Agrupamiento\n",
    "clustering = nx.clustering(G)\n",
    "with open(\"../metricas/clustering_coefficient.csv\", \"w\") as csvfile:\n",
    "    writer = csv.writer(csvfile)\n",
    "    writer.writerow([\"Nodo\", \"Clustering Coefficient\"])  # Encabezados\n",
    "    for nodo, coeficiente in clustering.items():\n",
    "        writer.writerow([nodo, coeficiente])"
   ]
  },
  {
   "cell_type": "code",
   "execution_count": 8,
   "metadata": {},
   "outputs": [],
   "source": [
    "# Agrupación cuadrada\n",
    "square_clustering = nx.square_clustering(G)\n",
    "with open(\"../metricas/square_clustering.csv\", \"w\") as csvfile:\n",
    "    writer = csv.writer(csvfile)\n",
    "    writer.writerow([\"Nodo\", \"Square clustering\"])  # Encabezados\n",
    "    for nodo, coeficiente in square_clustering.items():\n",
    "        writer.writerow([nodo, coeficiente])"
   ]
  },
  {
   "cell_type": "code",
   "execution_count": 17,
   "id": "61a52531",
   "metadata": {},
   "outputs": [],
   "source": [
    "# Métrica de agrupamientos en triángulos\n",
    "triangles = nx.triangles(G)\n",
    "with open(\"../metricas/triangles.csv\", \"w\") as csvfile:\n",
    "    writer = csv.writer(csvfile)\n",
    "    writer.writerow([\"Nodo\", \"Triangles\"])  # Encabezados\n",
    "    for nodo, coeficiente in triangles.items():\n",
    "        writer.writerow([nodo, coeficiente])"
   ]
  },
  {
   "cell_type": "code",
   "execution_count": 18,
   "metadata": {},
   "outputs": [],
   "source": [
    "# Calculamos las métricas de las comunidades"
   ]
  },
  {
   "cell_type": "code",
   "execution_count": 19,
   "id": "42cfa484",
   "metadata": {},
   "outputs": [
    {
     "ename": "NameError",
     "evalue": "name 'greedy_modularity_communities' is not defined",
     "output_type": "error",
     "traceback": [
      "\u001b[1;31m---------------------------------------------------------------------------\u001b[0m",
      "\u001b[1;31mNameError\u001b[0m                                 Traceback (most recent call last)",
      "Cell \u001b[1;32mIn[19], line 5\u001b[0m\n\u001b[0;32m      3\u001b[0m writer \u001b[38;5;241m=\u001b[39m csv\u001b[38;5;241m.\u001b[39mwriter(csvfile)\n\u001b[0;32m      4\u001b[0m writer\u001b[38;5;241m.\u001b[39mwriterow([\u001b[38;5;124m\"\u001b[39m\u001b[38;5;124mCommunity\u001b[39m\u001b[38;5;124m\"\u001b[39m, \u001b[38;5;124m\"\u001b[39m\u001b[38;5;124mNodes\u001b[39m\u001b[38;5;124m\"\u001b[39m])  \u001b[38;5;66;03m# Escribir encabezados\u001b[39;00m\n\u001b[1;32m----> 5\u001b[0m \u001b[38;5;28;01mfor\u001b[39;00m idx, comunidad \u001b[38;5;129;01min\u001b[39;00m \u001b[38;5;28menumerate\u001b[39m(greedy_modularity_communities):\n\u001b[0;32m      6\u001b[0m     \u001b[38;5;28;01mfor\u001b[39;00m nodo \u001b[38;5;129;01min\u001b[39;00m comunidad:\n\u001b[0;32m      7\u001b[0m         writer\u001b[38;5;241m.\u001b[39mwriterow([idx, nodo])\n",
      "\u001b[1;31mNameError\u001b[0m: name 'greedy_modularity_communities' is not defined"
     ]
    }
   ],
   "source": [
    "# Métrica Comunidades de modularidad \"Greedy\"\n",
    "greedy_modularity_communities = nx.community.greedy_modularity_communities(G)\n",
    "with open(\"../metricas/greedy_modularity_communities.csv\", \"w\") as csvfile:\n",
    "    writer = csv.writer(csvfile)\n",
    "    writer.writerow([\"Community\", \"Nodes\"])  # Escribir encabezados\n",
    "    for idx, comunidad in enumerate(greedy_modularity_communities):\n",
    "        for nodo in comunidad:\n",
    "            writer.writerow([idx, nodo])"
   ]
  },
  {
   "cell_type": "code",
   "execution_count": 20,
   "metadata": {},
   "outputs": [
    {
     "ename": "TypeError",
     "evalue": "edge_betweenness_partition() missing 1 required positional argument: 'number_of_sets'",
     "output_type": "error",
     "traceback": [
      "\u001b[1;31m---------------------------------------------------------------------------\u001b[0m",
      "\u001b[1;31mTypeError\u001b[0m                                 Traceback (most recent call last)",
      "Cell \u001b[1;32mIn[20], line 2\u001b[0m\n\u001b[0;32m      1\u001b[0m \u001b[38;5;66;03m# Métrica Partición de intermediación de aristas\u001b[39;00m\n\u001b[1;32m----> 2\u001b[0m edge_betweenness_partition \u001b[38;5;241m=\u001b[39m nx\u001b[38;5;241m.\u001b[39mcommunity\u001b[38;5;241m.\u001b[39medge_betweenness_partition(G)\n\u001b[0;32m      3\u001b[0m \u001b[38;5;28;01mwith\u001b[39;00m \u001b[38;5;28mopen\u001b[39m(\u001b[38;5;124m\"\u001b[39m\u001b[38;5;124m../metricas/edge_betweenness_partition.csv\u001b[39m\u001b[38;5;124m\"\u001b[39m, \u001b[38;5;124m\"\u001b[39m\u001b[38;5;124mw\u001b[39m\u001b[38;5;124m\"\u001b[39m) \u001b[38;5;28;01mas\u001b[39;00m csvfile:\n\u001b[0;32m      4\u001b[0m     writer \u001b[38;5;241m=\u001b[39m csv\u001b[38;5;241m.\u001b[39mwriter(csvfile)\n",
      "File \u001b[1;32mc:\\Users\\granl\\anaconda3\\Lib\\site-packages\\networkx\\utils\\decorators.py:789\u001b[0m, in \u001b[0;36margmap.__call__.<locals>.func\u001b[1;34m(_argmap__wrapper, *args, **kwargs)\u001b[0m\n\u001b[0;32m    788\u001b[0m \u001b[38;5;28;01mdef\u001b[39;00m \u001b[38;5;21mfunc\u001b[39m(\u001b[38;5;241m*\u001b[39margs, __wrapper\u001b[38;5;241m=\u001b[39m\u001b[38;5;28;01mNone\u001b[39;00m, \u001b[38;5;241m*\u001b[39m\u001b[38;5;241m*\u001b[39mkwargs):\n\u001b[1;32m--> 789\u001b[0m     \u001b[38;5;28;01mreturn\u001b[39;00m argmap\u001b[38;5;241m.\u001b[39m_lazy_compile(__wrapper)(\u001b[38;5;241m*\u001b[39margs, \u001b[38;5;241m*\u001b[39m\u001b[38;5;241m*\u001b[39mkwargs)\n",
      "\u001b[1;31mTypeError\u001b[0m: edge_betweenness_partition() missing 1 required positional argument: 'number_of_sets'"
     ]
    }
   ],
   "source": [
    "# Métrica Partición de intermediación de aristas\n",
    "asyn_lpa_communities = nx.community.asyn_lpa_communities(G)\n",
    "with open(\"../metricas/asyn_lpa_communities.csv\", \"w\") as csvfile:\n",
    "    writer = csv.writer(csvfile)\n",
    "    writer.writerow([\"Nodo\", \"Community\"])  # Escribir encabezados\n",
    "    for comunidad_idx, comunidad in enumerate(asyn_lpa_communities):\n",
    "        for nodo in comunidad:\n",
    "            writer.writerow([nodo, comunidad_idx])"
   ]
  },
  {
   "cell_type": "code",
   "execution_count": null,
   "id": "18f03767",
   "metadata": {},
   "outputs": [],
   "source": [
    "# Calculamos las métricas de los nucleos"
   ]
  },
  {
   "cell_type": "code",
   "execution_count": null,
   "id": "1c101f90",
   "metadata": {},
   "outputs": [],
   "source": [
    "#Devuelve el número central de cada nodo.\n",
    "core_number = nx.core_number(G)\n",
    "with open(\"../metricas/core_number.csv\", \"w\") as csvfile:\n",
    "    writer = csv.writer(csvfile)\n",
    "    writer.writerow([\"Nodo\", \"Core number\"])  # Escribir encabezados\n",
    "    for nodo, centrality in core_number.items():\n",
    "        writer.writerow([nodo, centrality])"
   ]
  },
  {
   "cell_type": "code",
   "execution_count": null,
   "id": "bfe8634e",
   "metadata": {},
   "outputs": [],
   "source": []
  }
 ],
 "metadata": {
  "kernelspec": {
   "display_name": "Python 3 (ipykernel)",
   "language": "python",
   "name": "python3"
  },
  "language_info": {
   "codemirror_mode": {
    "name": "ipython",
    "version": 3
   },
   "file_extension": ".py",
   "mimetype": "text/x-python",
   "name": "python",
   "nbconvert_exporter": "python",
   "pygments_lexer": "ipython3",
   "version": "3.12.3"
  }
 },
 "nbformat": 4,
 "nbformat_minor": 5
}
